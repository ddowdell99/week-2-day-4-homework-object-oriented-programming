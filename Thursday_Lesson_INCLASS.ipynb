{
 "cells": [
  {
   "cell_type": "markdown",
   "metadata": {},
   "source": [
    "# Object-Oriented-Programming (OOP)"
   ]
  },
  {
   "cell_type": "markdown",
   "metadata": {},
   "source": [
    "## Tasks Today:\n",
    "\n",
    "   \n",
    "\n",
    "1) <b>Creating a Class (Initializing/Declaring)</b> <br>\n",
    "2) <b>Using a Class (Instantiating)</b> <br>\n",
    " &nbsp;&nbsp;&nbsp;&nbsp; a) Creating One Instance <br>\n",
    " &nbsp;&nbsp;&nbsp;&nbsp; b) Creating Multiple Instances <br>\n",
    " &nbsp;&nbsp;&nbsp;&nbsp; c) In-Class Exercise #1 - Create a Class 'Car' and instantiate three different makes of cars <br>\n",
    "3) <b>The \\__init\\__() Method</b> <br>\n",
    " &nbsp;&nbsp;&nbsp;&nbsp; a) The 'self' Attribute <br>\n",
    "4) <b>Class Attributes</b> <br>\n",
    " &nbsp;&nbsp;&nbsp;&nbsp; a) Initializing Attributes <br>\n",
    " &nbsp;&nbsp;&nbsp;&nbsp; b) Setting an Attribute Outside of the \\__init\\__() Method <br>\n",
    " &nbsp;&nbsp;&nbsp;&nbsp; c) Setting Defaults for Attributes <br>\n",
    " &nbsp;&nbsp;&nbsp;&nbsp; d) Accessing Class Attributes <br>\n",
    " &nbsp;&nbsp;&nbsp;&nbsp; e) Changing Class Attributes <br>\n",
    " &nbsp;&nbsp;&nbsp;&nbsp; f) In-Class Exercise #2 - Add a color and wheels attribute to your 'Car' class <br>\n",
    "5) <b>Class Methods</b> <br>\n",
    " &nbsp;&nbsp;&nbsp;&nbsp; a) Creating <br>\n",
    " &nbsp;&nbsp;&nbsp;&nbsp; b) Calling <br>\n",
    " &nbsp;&nbsp;&nbsp;&nbsp; c) Modifying an Attribute's Value Through a Method <br>\n",
    " &nbsp;&nbsp;&nbsp;&nbsp; d) Incrementing an Attribute's Value Through a Method <br>\n",
    " &nbsp;&nbsp;&nbsp;&nbsp; e) In-Class Exercise #3 - Add a method that prints the cars color and wheel number, then call them <br>\n",
    "6) <b>Inheritance</b> <br>\n",
    " &nbsp;&nbsp;&nbsp;&nbsp; a) Syntax for Inheriting from a Parent Class <br>\n",
    " &nbsp;&nbsp;&nbsp;&nbsp; b) The \\__init\\__() Method for a Child Class (super()) <br>\n",
    " &nbsp;&nbsp;&nbsp;&nbsp; c) Defining Attributes and Methods for the Child Class <br>\n",
    " &nbsp;&nbsp;&nbsp;&nbsp; d) Method Overriding <br>\n",
    " &nbsp;&nbsp;&nbsp;&nbsp; e) In-Class Exercise #4 - Create a class 'Ford' that inherits from 'Car' class and initialize it as a Blue Ford Explorer with 4 wheels using the super() method <br>\n",
    "7) <b>Classes as Attributes</b> <br>\n",
    "8) <b>Exercises</b> <br>\n",
    " &nbsp;&nbsp;&nbsp;&nbsp; a) Exercise #1 - Turn the shopping cart program from yesterday into an object-oriented program <br>"
   ]
  },
  {
   "cell_type": "markdown",
   "metadata": {},
   "source": [
    "## Creating a Class (Initializing/Declaring)\n",
    "<p>When creating a class, function, or even a variable you are initializing that object. Initializing and Declaring occur at the same time in Python, whereas in lower level languages you have to declare an object before initializing it. This is the first step in the process of using a class.</p>"
   ]
  },
  {
   "cell_type": "code",
   "execution_count": 1,
   "metadata": {},
   "outputs": [],
   "source": [
    "class Car():\n",
    "    wheels = 4 #attributes\n",
    "    color = 'blue'\n",
    "    \n",
    "    # DON'T USE THIS USE INIT METHOD\n"
   ]
  },
  {
   "cell_type": "markdown",
   "metadata": {},
   "source": [
    "## Using a Class (Instantiating)\n",
    "<p>The process of creating a class is called <i>Instantiating</i>. Each time you create a variable of that type of class, it is referred to as an <i>Instance</i> of that class. This is the second step in the process of using a class.</p>"
   ]
  },
  {
   "cell_type": "markdown",
   "metadata": {},
   "source": [
    "##### Creating One Instance"
   ]
  },
  {
   "cell_type": "code",
   "execution_count": 7,
   "metadata": {},
   "outputs": [],
   "source": [
    "c1 = Car()\n",
    "c2 = Car()\n",
    "c3 = Car()\n",
    "ford = Car()"
   ]
  },
  {
   "cell_type": "markdown",
   "metadata": {},
   "source": [
    "##### Creating Multiple Instances"
   ]
  },
  {
   "cell_type": "code",
   "execution_count": 8,
   "metadata": {},
   "outputs": [
    {
     "name": "stdout",
     "output_type": "stream",
     "text": [
      "4\n",
      "blue\n",
      "red\n"
     ]
    }
   ],
   "source": [
    "print(c1.wheels)\n",
    "c3.color = 'red'\n",
    "\n",
    "print(c1.color)\n",
    "print(c3.color)"
   ]
  },
  {
   "cell_type": "markdown",
   "metadata": {},
   "source": [
    "##### In-Class Exercise #1 - Create a Class 'Car' and Instantiate three different makes of cars"
   ]
  },
  {
   "cell_type": "code",
   "execution_count": 9,
   "metadata": {},
   "outputs": [
    {
     "name": "stdout",
     "output_type": "stream",
     "text": [
      "fast\n"
     ]
    }
   ],
   "source": [
    "class Car():\n",
    "    wheels = 4\n",
    "    speed = 'fast'\n",
    "    body_type = 'sedan'\n",
    "    \n",
    "    \n",
    "bmw = Car()\n",
    "mustang = Car()\n",
    "corvette = Car()\n",
    "\n",
    "print(bmw.speed)"
   ]
  },
  {
   "cell_type": "markdown",
   "metadata": {},
   "source": [
    "## The \\__init\\__() Method <br>\n",
    "<p>This method is used in almost every created class, and called only once upon the creation of the class instance. This method will initialize all variables needed for the object.</p>"
   ]
  },
  {
   "cell_type": "code",
   "execution_count": 17,
   "metadata": {},
   "outputs": [
    {
     "name": "stdout",
     "output_type": "stream",
     "text": [
      "shay\n",
      "diante\n",
      "True\n"
     ]
    }
   ],
   "source": [
    "class User():\n",
    "    def __init__(self, n, age, email, address):\n",
    "        self.name = n\n",
    "        self.age = age\n",
    "        self.email = email #left email is attribute name\n",
    "        self.hello = address\n",
    "        self.isHuman = True # can set it as boolean will not change, do not need to put as parameter\n",
    "        \n",
    "        \n",
    "u1 = User('shay', 23, 'shay@gmail.com', '123 yuh street')\n",
    "u2 = User('diante', 23, 'diante@gmail.com', '123 really real street')\n",
    "\n",
    "print(u1.name)\n",
    "print(u2.name)\n",
    "\n",
    "print(u1.isHuman)"
   ]
  },
  {
   "cell_type": "markdown",
   "metadata": {},
   "source": [
    "##### The 'self' Attribute <br>\n",
    "<p>This attribute is required to keep track of specific instance's attributes. Without the self attribute, the program would not know how to reference or keep track of an instance's attributes.</p>"
   ]
  },
  {
   "cell_type": "code",
   "execution_count": null,
   "metadata": {},
   "outputs": [],
   "source": [
    "# see above"
   ]
  },
  {
   "cell_type": "markdown",
   "metadata": {},
   "source": [
    "## Class Attributes <br>\n",
    "<p>While variables are inside of a class, they are referred to as attributes and not variables. When someone says 'attribute' you know they're speaking about a class. Attributes can be initialized through the init method, or outside of it.</p>"
   ]
  },
  {
   "cell_type": "markdown",
   "metadata": {},
   "source": [
    "##### Initializing Attributes"
   ]
  },
  {
   "cell_type": "code",
   "execution_count": null,
   "metadata": {},
   "outputs": [],
   "source": [
    "# see above"
   ]
  },
  {
   "cell_type": "markdown",
   "metadata": {},
   "source": [
    "##### Accessing Class Attributes"
   ]
  },
  {
   "cell_type": "code",
   "execution_count": null,
   "metadata": {
    "scrolled": true
   },
   "outputs": [],
   "source": [
    "# See Above"
   ]
  },
  {
   "cell_type": "markdown",
   "metadata": {},
   "source": [
    "##### Setting Defaults for Attributes"
   ]
  },
  {
   "cell_type": "code",
   "execution_count": 28,
   "metadata": {},
   "outputs": [
    {
     "name": "stdout",
     "output_type": "stream",
     "text": [
      "24\n"
     ]
    }
   ],
   "source": [
    "class User():\n",
    "    def __init__(self, n, l_n, age, email, address, bio=''): #default parameter set = to ''\n",
    "        self.first_name = n\n",
    "        self.last_name = l_n\n",
    "        self.age = age\n",
    "        self.email = email \n",
    "        self.hello = address\n",
    "        self.isHuman = True\n",
    "        self.bio = bio\n",
    "        \n",
    "    def getFullName(self): # have to take in self\n",
    "        return f\"{self.first_name} {self.last_name}\" \n",
    "    \n",
    "    def happyBirthday(self):\n",
    "        self.age += 1\n",
    "    \n",
    "u2 = User('diante', 'dowdell', 23, 'diante@gmail.com', '123 really real street')\n",
    "\n",
    "u2.getFullName()\n",
    "\n",
    "u2.happyBirthday()\n",
    "\n",
    "print(u2.age)"
   ]
  },
  {
   "cell_type": "markdown",
   "metadata": {},
   "source": [
    "##### Changing Class Attributes <br>\n",
    "<p>Keep in mind there are global class attributes and then there are attributes only available to each class instance which won't effect other classes.</p>"
   ]
  },
  {
   "cell_type": "code",
   "execution_count": null,
   "metadata": {},
   "outputs": [],
   "source": []
  },
  {
   "cell_type": "code",
   "execution_count": null,
   "metadata": {},
   "outputs": [],
   "source": []
  },
  {
   "cell_type": "markdown",
   "metadata": {},
   "source": [
    "##### In-Class Exercise #2 - Add a doors and seats attribute to your 'Car' class then print out two different instances with different doors and seats"
   ]
  },
  {
   "cell_type": "code",
   "execution_count": 24,
   "metadata": {},
   "outputs": [
    {
     "name": "stdout",
     "output_type": "stream",
     "text": [
      "peanut butter cloth\n",
      "box\n"
     ]
    }
   ],
   "source": [
    "class Car():\n",
    "    def __init__(self, wheels, speed, bt, doors, seats):\n",
    "        self.doors = doors\n",
    "        self.seats = seats\n",
    "        self.wheels = wheels\n",
    "        self.speed = speed\n",
    "        self.body_type = bt #left is what you call; right is what's stored\n",
    "        \n",
    "bmw = Car(4, 'fast', 'sedan', 'butterfly doors', 'peanut butter cloth')\n",
    "mustang = Car(2, 'fast', 'box', '2-door', 'red leather')\n",
    "\n",
    "print(bmw.seats)\n",
    "print(mustang.body_type)"
   ]
  },
  {
   "cell_type": "markdown",
   "metadata": {},
   "source": [
    "## Class Methods <br>\n",
    "<p>While inside of a class, functions are referred to as 'methods'. If you hear someone mention methods, they're speaking about classes. Methods are essentially functions, but only callable on the instances of a class.</p>"
   ]
  },
  {
   "cell_type": "markdown",
   "metadata": {},
   "source": [
    "##### Creating"
   ]
  },
  {
   "cell_type": "code",
   "execution_count": null,
   "metadata": {},
   "outputs": [],
   "source": []
  },
  {
   "cell_type": "markdown",
   "metadata": {},
   "source": [
    "##### Calling"
   ]
  },
  {
   "cell_type": "code",
   "execution_count": null,
   "metadata": {},
   "outputs": [],
   "source": [
    "# See Above"
   ]
  },
  {
   "cell_type": "markdown",
   "metadata": {},
   "source": [
    "##### Modifying an Attribute's Value Through a Method"
   ]
  },
  {
   "cell_type": "code",
   "execution_count": null,
   "metadata": {},
   "outputs": [],
   "source": []
  },
  {
   "cell_type": "markdown",
   "metadata": {},
   "source": [
    "##### Incrementing an Attribute's Value Through a Method"
   ]
  },
  {
   "cell_type": "code",
   "execution_count": null,
   "metadata": {},
   "outputs": [],
   "source": []
  },
  {
   "cell_type": "markdown",
   "metadata": {},
   "source": [
    "##### In-Class Exercise #3 - Add a method that takes in three parameters of year, doors and seats and prints out a formatted print statement with make, model, year, seats, and doors"
   ]
  },
  {
   "cell_type": "code",
   "execution_count": null,
   "metadata": {},
   "outputs": [],
   "source": [
    "# Create class with 2 paramters inside of the __init__ which are make and model\n",
    "\n",
    "# Inside of the Car class create a method that has 4 parameter in total (self,year,door,seats)\n",
    "\n",
    "# Output: This car is from 2019 and is a Ford Expolorer and has 4 doors and 5 seats\n",
    "\n"
   ]
  },
  {
   "cell_type": "markdown",
   "metadata": {},
   "source": [
    "## Inheritance <br>\n",
    "<p>You can create a child-parent relationship between two classes by using inheritance. What this allows you to do is have overriding methods, but also inherit traits from the parent class. Think of it as an actual parent and child, the child will inherit the parent's genes, as will the classes in OOP</p>"
   ]
  },
  {
   "cell_type": "markdown",
   "metadata": {},
   "source": [
    "##### Syntax for Inheriting from a Parent Class"
   ]
  },
  {
   "cell_type": "code",
   "execution_count": 44,
   "metadata": {},
   "outputs": [
    {
     "name": "stdout",
     "output_type": "stream",
     "text": [
      "..\n",
      "<class '__main__.Animal'>\n",
      "Fluffy\n",
      "..\n",
      "<class '__main__.Dog'>\n",
      "Nacho\n",
      "True\n",
      "....\n",
      "MEOWWWW\n"
     ]
    }
   ],
   "source": [
    "\n",
    "# parent\n",
    "class Animal():\n",
    "    def __init__(self, name, species='', legs=4):\n",
    "        self.name = name\n",
    "        self.species = species\n",
    "        self.legs = legs\n",
    "    def sniff(self):\n",
    "        return '..'\n",
    "    \n",
    "    \n",
    "# children   \n",
    "class Dog(Animal):\n",
    "        pass\n",
    "    \n",
    "    \n",
    "    \n",
    "class Cat(Animal):\n",
    "    def __init__(self, name, species='feline', legs=4, isCute = True, isClean = True):\n",
    "        super().__init__(name, species, legs)\n",
    "        self.isCute = isCute\n",
    "        self.isClean = isClean\n",
    "        \n",
    "    def sniff(self):\n",
    "        return '....'\n",
    "    \n",
    "    def meow(self):\n",
    "        return 'MEOWWWW'\n",
    "    \n",
    "a1 = Animal('Diante', 'Human', 2)\n",
    "print(a1.sniff())\n",
    "print(type(a1))\n",
    "\n",
    "d1 = Dog('Fluffy', 'Canine')\n",
    "\n",
    "print(d1.name)\n",
    "print(d1.sniff())\n",
    "print(type(d1))\n",
    "\n",
    "c1 = Cat('Nacho')\n",
    "print(c1.name)\n",
    "print(c1.isCute)\n",
    "print(c1.sniff())  # best way of using class method\n",
    "print(c1.meow())"
   ]
  },
  {
   "cell_type": "markdown",
   "metadata": {},
   "source": [
    "##### The \\__init\\__() Method for a Child Class - super()"
   ]
  },
  {
   "cell_type": "code",
   "execution_count": null,
   "metadata": {
    "scrolled": true
   },
   "outputs": [],
   "source": []
  },
  {
   "cell_type": "markdown",
   "metadata": {},
   "source": [
    "##### Defining Attributes and Methods for the Child Class"
   ]
  },
  {
   "cell_type": "code",
   "execution_count": null,
   "metadata": {},
   "outputs": [],
   "source": [
    "# See Above"
   ]
  },
  {
   "cell_type": "markdown",
   "metadata": {},
   "source": [
    "##### Method Overriding"
   ]
  },
  {
   "cell_type": "code",
   "execution_count": null,
   "metadata": {},
   "outputs": [],
   "source": [
    "# See Above"
   ]
  },
  {
   "cell_type": "markdown",
   "metadata": {},
   "source": [
    "## Classes as Attributes <br>\n",
    "<p>Classes can also be used as attributes within another class. This is useful in situations where you need to keep variables locally stored, instead of globally stored.</p>"
   ]
  },
  {
   "cell_type": "code",
   "execution_count": 49,
   "metadata": {},
   "outputs": [
    {
     "ename": "TypeError",
     "evalue": "__init__() takes 5 positional arguments but 6 were given",
     "output_type": "error",
     "traceback": [
      "\u001b[1;31m---------------------------------------------------------------------------\u001b[0m",
      "\u001b[1;31mTypeError\u001b[0m                                 Traceback (most recent call last)",
      "Input \u001b[1;32mIn [49]\u001b[0m, in \u001b[0;36m<cell line: 6>\u001b[1;34m()\u001b[0m\n\u001b[0;32m      3\u001b[0m         \u001b[38;5;28mself\u001b[39m\u001b[38;5;241m.\u001b[39mvolts \u001b[38;5;241m=\u001b[39m \u001b[38;5;241m7.8\u001b[39m\n\u001b[0;32m      4\u001b[0m         \u001b[38;5;28mself\u001b[39m\u001b[38;5;241m.\u001b[39mcells \u001b[38;5;241m=\u001b[39m cells\n\u001b[1;32m----> 6\u001b[0m \u001b[38;5;28;01mclass\u001b[39;00m \u001b[38;5;21;01mCar\u001b[39;00m():\n\u001b[0;32m      7\u001b[0m     \u001b[38;5;28;01mdef\u001b[39;00m \u001b[38;5;21m__init__\u001b[39m(\u001b[38;5;28mself\u001b[39m, make, model, year, battery):\n\u001b[0;32m      8\u001b[0m         \u001b[38;5;28mself\u001b[39m\u001b[38;5;241m.\u001b[39mmake \u001b[38;5;241m=\u001b[39m make\n",
      "Input \u001b[1;32mIn [49]\u001b[0m, in \u001b[0;36mCar\u001b[1;34m()\u001b[0m\n\u001b[0;32m     14\u001b[0m     \u001b[38;5;28;01mreturn\u001b[39;00m \u001b[38;5;124mf\u001b[39m\u001b[38;5;124m\"\u001b[39m\u001b[38;5;124mThis is a \u001b[39m\u001b[38;5;132;01m{\u001b[39;00m\u001b[38;5;28mself\u001b[39m\u001b[38;5;241m.\u001b[39myear\u001b[38;5;132;01m}\u001b[39;00m\u001b[38;5;124m \u001b[39m\u001b[38;5;132;01m{\u001b[39;00m\u001b[38;5;28mself\u001b[39m\u001b[38;5;241m.\u001b[39mmake\u001b[38;5;132;01m}\u001b[39;00m\u001b[38;5;124m \u001b[39m\u001b[38;5;132;01m{\u001b[39;00m\u001b[38;5;28mself\u001b[39m\u001b[38;5;241m.\u001b[39mmodel\u001b[38;5;132;01m}\u001b[39;00m\u001b[38;5;124m and has a \u001b[39m\u001b[38;5;132;01m{\u001b[39;00m\u001b[38;5;28mself\u001b[39m\u001b[38;5;241m.\u001b[39mbattery\u001b[38;5;241m.\u001b[39mvolts\u001b[38;5;132;01m}\u001b[39;00m\u001b[38;5;124m volt battery\u001b[39m\u001b[38;5;124m\"\u001b[39m\n\u001b[0;32m     16\u001b[0m b \u001b[38;5;241m=\u001b[39m Battery(\u001b[38;5;241m10\u001b[39m)\n\u001b[1;32m---> 18\u001b[0m c \u001b[38;5;241m=\u001b[39m \u001b[43mCar\u001b[49m\u001b[43m(\u001b[49m\u001b[38;5;124;43m'\u001b[39;49m\u001b[38;5;124;43mHyundai\u001b[39;49m\u001b[38;5;124;43m'\u001b[39;49m\u001b[43m,\u001b[49m\u001b[43m \u001b[49m\u001b[38;5;124;43m'\u001b[39;49m\u001b[38;5;124;43mElantra\u001b[39;49m\u001b[38;5;124;43m'\u001b[39;49m\u001b[43m,\u001b[49m\u001b[43m \u001b[49m\u001b[38;5;241;43m2021\u001b[39;49m\u001b[43m,\u001b[49m\u001b[43m \u001b[49m\u001b[43mb\u001b[49m\u001b[43m,\u001b[49m\u001b[43m \u001b[49m\u001b[38;5;241;43m21\u001b[39;49m\u001b[43m)\u001b[49m\n\u001b[0;32m     20\u001b[0m c\u001b[38;5;241m.\u001b[39mbattery\u001b[38;5;241m.\u001b[39mvolts\n",
      "\u001b[1;31mTypeError\u001b[0m: __init__() takes 5 positional arguments but 6 were given"
     ]
    }
   ],
   "source": [
    "class Battery():\n",
    "    def __init__(self, cells):\n",
    "        self.volts = 7.8\n",
    "        self.cells = cells\n",
    "        \n",
    "class Car():\n",
    "    def __init__(self, make, model, year, battery):\n",
    "        self.make = make\n",
    "        self.model = model\n",
    "        self.year = year\n",
    "        self.battery = battery\n",
    "        \n",
    "    def printinfo(self):\n",
    "        return f\"This is a {self.year} {self.make} {self.model} and has a {self.battery.volts} volt battery\"\n",
    "    \n",
    "    b = Battery(10)\n",
    "    \n",
    "    c = Car('Hyundai', 'Elantra', 2021, b, 21)\n",
    "    \n",
    "    c.battery.volts"
   ]
  },
  {
   "cell_type": "markdown",
   "metadata": {},
   "source": [
    "# Exercises"
   ]
  },
  {
   "cell_type": "markdown",
   "metadata": {},
   "source": [
    "### Exercise 1 - Turn the shopping cart program from yesterday into an object-oriented program\n",
    "\n",
    "The comments in the cell below are there as a guide for thinking about the problem. However, if you feel a different way is best for you and your own thought process, please do what feels best for you by all means."
   ]
  },
  {
   "cell_type": "code",
   "execution_count": null,
   "metadata": {},
   "outputs": [],
   "source": [
    "class Cart():\n",
    "    def __init__(self, name): #HUUUGE This continually broke code without. Need to remember!\n",
    "        self.cart = {}\n",
    "        self.name = name\n",
    "    \n",
    "    def shopping(self):\n",
    "        print(f\"\\nWelcome to the Shopping Terminal, {self.name.title()}!\")\n",
    "        while True:\n",
    "            response = input(\"\\nType 'Add' or 'Delete' to modify shopping cart. Type 'Show' to show current shopping cart. When finished type 'Quit':  \")\n",
    "            if response.lower() == 'add':\n",
    "                self.additem()\n",
    "            elif response.lower() == 'delete':\n",
    "                self.deleteitem()\n",
    "            elif response.lower() == 'show':\n",
    "                self.showcart()\n",
    "            elif response.lower() == 'quit':\n",
    "                self.endcart()\n",
    "                break\n",
    "            else:\n",
    "                print('\\nInvalid response! Please type \"add\", \"delete\", \"show\" or \"quit\"')\n",
    "                    \n",
    "        \n",
    "    def additem(self):\n",
    "        item = input(\"\\nWhat would you like to add? \")\n",
    "        if item.isdigit():\n",
    "            print(\"\\nPlease enter an item...Not a number!\")\n",
    "            item = self.additem()\n",
    "        elif item in self.cart:\n",
    "            print(f\"\\nYou already have {item} in your cart!\")\n",
    "            response3 = input(f\"\\nWould you like to change the quantity of {item} in your cart? (Y/N) \") \n",
    "            if response3.lower() == 'y':\n",
    "                quantity = Cart.quantity(self)\n",
    "                self.cart[item] = quantity\n",
    "            elif response3.lower() == 'n':\n",
    "                pass\n",
    "            else:\n",
    "                print(\"\\nInvalid Response! Please enter either 'Y' or 'N' \")\n",
    "        else:\n",
    "            quantity = Cart.quantity(self)\n",
    "            self.cart[item] = quantity\n",
    "        return\n",
    "                 \n",
    "    def quantity(self):\n",
    "        quantity = input(\"\\nWhat would you like the quantity of this item to be? \")\n",
    "        if quantity.isdigit():\n",
    "            self.quantity = int(quantity)\n",
    "        else:\n",
    "            print(\"\\nInvalid Response! Please enter a digit!\")\n",
    "            quantity = Cart.quantity(self)\n",
    "        return quantity\n",
    "    \n",
    "    def deleteitem(self):\n",
    "        print(f'\\nCurrent Items in Cart: {list(self.cart.keys())}')\n",
    "        item = input(\"\\nWhat item would you like to remove? \")\n",
    "        if item not in self.cart:\n",
    "            print(f\"\\nYou currently do not have any {item}'s in your shopping cart!\")\n",
    "        else:\n",
    "            response_2 = input(\"\\nWould you like to remove all of this item? (Y/N) \")\n",
    "            if response_2.lower() == 'n':\n",
    "                quantity = Cart.quantity(self)\n",
    "                self.cart[item] = int(quantity)\n",
    "            elif response_2 == 'y':\n",
    "                del self.cart[item]\n",
    "            else:\n",
    "                print(\"\\nInvalid Response! Please enter either 'Y' for Yes or 'N' for No.\")\n",
    "        return\n",
    "    \n",
    "    def showcart(self):\n",
    "        print(\"\\nHere is your CURRENT shopping cart:\")\n",
    "        for k, v in self.cart.items():\n",
    "            print(f'{k.title()}: {v}')\n",
    "\n",
    "    def endcart(self):\n",
    "        print(\"\\nHere is your FINAL shopping cart:\")\n",
    "        for k , v in self.cart.items():\n",
    "            print(f\"{k.title()}: {v}\")\n",
    "        print(f\"\\nThank you come again, {self.name.title()}!\")\n",
    "        \n",
    "diante = Cart('diante')\n",
    "shay = Cart('shay')\n",
    "fin = Cart('fin')\n",
    "\n",
    "diante.shopping()\n",
    "shay.shopping()\n",
    "fin.shopping()\n"
   ]
  },
  {
   "cell_type": "markdown",
   "metadata": {},
   "source": [
    "### Exercise 2 - Write a Python class which has two methods get_String and print_String. get_String accept a string from the user and print_String print the string in upper case"
   ]
  },
  {
   "cell_type": "code",
   "execution_count": null,
   "metadata": {},
   "outputs": [],
   "source": [
    "class String():\n",
    "\n",
    "    def runprogram(self):\n",
    "        '''\n",
    "        Runs entire program of getstring and printstring where it will ask for input and then return it back uppercase. Will also check to see if \n",
    "        user would like to quit and end program!\n",
    "        '''\n",
    "        while True:\n",
    "            if self.getstring() == 'quit':\n",
    "                print(\"\\nThanks for using my UPPERCASE program!\")\n",
    "                break\n",
    "            self.printstring()\n",
    "\n",
    "\n",
    "    def getstring(self):\n",
    "        '''\n",
    "        Retrieves a string through a user input and checks to make sure it is not only numbers. Will return a string!\n",
    "        '''\n",
    "        # special_char = '!@#$%^&&*()=+:;\",,\\<.>/?~`'  #Didn't work because even if string contained text and special characters it still ran\n",
    "        string = input(\"\\nPlease enter anything that comes to your mind or enter 'Quit': \")\n",
    "        self.string = string\n",
    "        if string.isdigit():\n",
    "            print(\"\\nPlease refrain from entering ONLY numbers\")\n",
    "            string = self.getstring()\n",
    "        # for char in string:\n",
    "        #     if all char in special_char:\n",
    "        #         print('\\nPlease refrain from entering ONLY special characters!')\n",
    "        #         string = self.getstring()\n",
    "        else:\n",
    "            self.string = string\n",
    "        return string\n",
    "    \n",
    "    def printstring(self):\n",
    "        '''\n",
    "        Takes in string from getstring method and prints it back in UPPERCASE.\n",
    "        '''\n",
    "        print(f'\\nBOOM...UPPERCASE: {self.string.upper()}!')\n",
    "        return\n",
    "\n",
    "\n",
    "s1 = String()\n",
    "\n",
    "s1.runprogram()"
   ]
  }
 ],
 "metadata": {
  "kernelspec": {
   "display_name": "Python 3 (ipykernel)",
   "language": "python",
   "name": "python3"
  },
  "language_info": {
   "codemirror_mode": {
    "name": "ipython",
    "version": 3
   },
   "file_extension": ".py",
   "mimetype": "text/x-python",
   "name": "python",
   "nbconvert_exporter": "python",
   "pygments_lexer": "ipython3",
   "version": "3.9.12"
  }
 },
 "nbformat": 4,
 "nbformat_minor": 2
}
